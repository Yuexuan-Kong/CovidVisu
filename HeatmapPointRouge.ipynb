{
 "cells": [
  {
   "cell_type": "code",
   "execution_count": 1,
   "id": "nominated-forum",
   "metadata": {},
   "outputs": [],
   "source": [
    "import pandas as pd\n",
    "import seaborn as sb\n",
    "import matplotlib.pyplot as plt\n",
    "# data = pd.read_csv(r'database_valid.csv', encoding = 'latin-1', sep = ';')\n",
    "data = pd.read_csv(\"https://covid-nma.com/dataviz/data/database_valid.csv\", sep = \";\",encoding='latin-1').drop(index = [0])\n",
    "\n",
    "df = pd.DataFrame(data)\n",
    "# print(df)"
   ]
  },
  {
   "cell_type": "code",
   "execution_count": 3,
   "id": "everyday-summary",
   "metadata": {},
   "outputs": [],
   "source": [
    "trials_tmp1 = df.loc[df['Treatment type'] == 'Other antimicrobials']\n",
    "trials_tmp2 = df.loc[df['Treatment type'] == 'Antimalaria']\n",
    "merge_tmp = [trials_tmp1, trials_tmp2]\n",
    "trials = pd.concat(merge_tmp)\n",
    "trials = trials[['Trial ID', 'Treatment name', 'Treatment type', 'n randomized in this arm']]"
   ]
  },
  {
   "cell_type": "code",
   "execution_count": 4,
   "id": "forty-cradle",
   "metadata": {},
   "outputs": [],
   "source": [
    "treatments_type_antimicro = trials_tmp1['Treatment name'].tolist()\n",
    "treatments_type_antimala = trials_tmp2['Treatment name'].tolist()"
   ]
  },
  {
   "cell_type": "code",
   "execution_count": 5,
   "id": "handmade-rotation",
   "metadata": {},
   "outputs": [
    {
     "data": {
      "text/plain": [
       "['Hydroxychloroquine',\n",
       " 'Chloroquine',\n",
       " 'Mefloquine',\n",
       " 'Alexoquine',\n",
       " 'Artemisinin',\n",
       " 'Artemisinin-piperaquine',\n",
       " 'Artesunate',\n",
       " 'Atovaquone',\n",
       " 'Pyronaridine artesunate',\n",
       " 'Artesunate-amodiaquine',\n",
       " 'Tafenoquine',\n",
       " 'Artemether lumefantrine',\n",
       " 'Azithromycin',\n",
       " 'GNS561',\n",
       " 'Ivermectin']"
      ]
     },
     "execution_count": 5,
     "metadata": {},
     "output_type": "execute_result"
    }
   ],
   "source": [
    "types_unique_antimala = []\n",
    "for t in treatments_type_antimala : \n",
    "    if t not in types_unique_antimala :\n",
    "        types_unique_antimala.append(t)\n",
    "types_unique_antimala"
   ]
  },
  {
   "cell_type": "code",
   "execution_count": 6,
   "id": "violent-ozone",
   "metadata": {},
   "outputs": [
    {
     "data": {
      "text/plain": [
       "['Carrimycin',\n",
       " 'Immunoglobulin',\n",
       " 'Azithromycin',\n",
       " 'Teicoplanin',\n",
       " 'Minocyline',\n",
       " 'Senicapoc',\n",
       " 'Ivermectin',\n",
       " 'Niclosamide',\n",
       " 'Levamisole',\n",
       " 'Kolimycin',\n",
       " 'Doxycycline',\n",
       " 'Azithromycin+amoxicillin+clavulanate',\n",
       " 'Amoxicillin+clavulanate',\n",
       " 'Human immunoglobulin',\n",
       " 'Doxycycline+ivermectin',\n",
       " 'Metronidazole',\n",
       " 'Clofazimine',\n",
       " 'Cotrimoxazole',\n",
       " 'Rapamycin',\n",
       " 'Clarithromycin',\n",
       " 'Ceftriaxone+macrolide',\n",
       " 'Levofloxacin OR Moxifloxacin',\n",
       " 'Piperacillin-tazobactam+macrolide',\n",
       " 'Ceftaroline+macrolide',\n",
       " 'Amoxicillin-clavulanate+macrolide',\n",
       " 'Demethylchlortetracycline',\n",
       " 'Doxycyline+ivermectin',\n",
       " 'Doxycycline\\xa0',\n",
       " 'Tetracycline hydrochloride',\n",
       " 'Brilacidin']"
      ]
     },
     "execution_count": 6,
     "metadata": {},
     "output_type": "execute_result"
    }
   ],
   "source": [
    "types_unique_antimicro = []\n",
    "for t in treatments_type_antimicro : \n",
    "    if t not in types_unique_antimicro :\n",
    "        types_unique_antimicro.append(t)\n",
    "types_unique_antimicro"
   ]
  },
  {
   "cell_type": "code",
   "execution_count": 7,
   "id": "tropical-native",
   "metadata": {},
   "outputs": [],
   "source": [
    "trials_list = trials.values.tolist()\n",
    "#print(trials_list)\n",
    "comparisons = [[0 for i in range(len(types_unique_antimala))] for i in range(len(types_unique_antimicro))]\n",
    "comparisons_nb = [[0 for i in range(len(types_unique_antimala))] for i in range(len(types_unique_antimicro))]"
   ]
  },
  {
   "cell_type": "code",
   "execution_count": 8,
   "id": "blessed-investing",
   "metadata": {},
   "outputs": [],
   "source": [
    "for i in range(len(trials_list)):\n",
    "    temp = 0\n",
    "    trial_id_1, name_1, type_1, nb_1 = trials_list[i][0], trials_list[i][1], trials_list[i][2], trials_list[i][3]\n",
    "    for u in trials_list[i+1:]:\n",
    "        if u[0] == trial_id_1 and u[2]!= type_1:\n",
    "            temp = 1\n",
    "            type_2, name_2, nb_2 = u[2], u[1], u[3]\n",
    "            for v in range(len(types_unique_antimicro)):\n",
    "                if name_1 == types_unique_antimicro[v] :\n",
    "                    index_list1 = v\n",
    "            for t in range(len(types_unique_antimala)):\n",
    "                if name_2 == types_unique_antimala[t]:\n",
    "                    index_list2 = t\n",
    "    if temp == 1 :\n",
    "        comparisons[index_list1][index_list2] += 1\n",
    "        comparisons_nb[index_list1][index_list2] += float(nb_1)"
   ]
  },
  {
   "cell_type": "code",
   "execution_count": 9,
   "id": "forced-spectrum",
   "metadata": {},
   "outputs": [
    {
     "data": {
      "text/plain": [
       "[[0, 0, 0, 0, 0, 0, 0, 0, 0, 0, 0, 0, 0, 0, 0],\n",
       " [1, 0, 0, 0, 0, 0, 0, 0, 0, 0, 0, 0, 0, 0, 0],\n",
       " [12, 0, 0, 0, 0, 0, 0, 0, 0, 0, 0, 0, 0, 0, 0],\n",
       " [0, 0, 0, 0, 0, 0, 0, 0, 0, 0, 0, 0, 0, 0, 0],\n",
       " [0, 0, 0, 0, 0, 0, 0, 0, 0, 0, 0, 0, 0, 0, 0],\n",
       " [0, 0, 0, 0, 0, 0, 0, 0, 0, 0, 0, 0, 0, 0, 0],\n",
       " [9, 1, 0, 0, 0, 0, 0, 0, 0, 0, 0, 0, 0, 0, 0],\n",
       " [0, 1, 0, 0, 0, 0, 0, 0, 0, 0, 0, 0, 0, 0, 0],\n",
       " [0, 0, 0, 0, 0, 0, 0, 0, 0, 0, 0, 0, 0, 0, 0],\n",
       " [0, 0, 0, 0, 0, 0, 0, 0, 0, 0, 0, 0, 0, 0, 0],\n",
       " [0, 0, 0, 0, 0, 0, 0, 0, 0, 0, 0, 0, 0, 0, 0],\n",
       " [0, 0, 0, 0, 0, 0, 0, 0, 0, 0, 0, 0, 0, 0, 0],\n",
       " [0, 0, 0, 0, 0, 0, 0, 0, 0, 0, 0, 0, 0, 0, 0],\n",
       " [0, 0, 0, 0, 0, 0, 0, 0, 0, 0, 0, 0, 0, 0, 0],\n",
       " [0, 1, 0, 0, 0, 0, 0, 0, 0, 0, 0, 0, 0, 0, 0],\n",
       " [0, 0, 0, 0, 0, 0, 0, 0, 0, 0, 0, 0, 0, 0, 0],\n",
       " [0, 0, 0, 0, 0, 0, 0, 0, 0, 0, 0, 0, 0, 0, 0],\n",
       " [0, 0, 0, 0, 0, 0, 0, 0, 0, 0, 0, 0, 0, 0, 0],\n",
       " [0, 0, 0, 0, 0, 0, 0, 0, 0, 0, 0, 0, 0, 0, 0],\n",
       " [1, 0, 0, 0, 0, 0, 0, 0, 0, 0, 0, 0, 1, 0, 0],\n",
       " [1, 0, 0, 0, 0, 0, 0, 0, 0, 0, 0, 0, 0, 0, 0],\n",
       " [1, 0, 0, 0, 0, 0, 0, 0, 0, 0, 0, 0, 0, 0, 0],\n",
       " [1, 0, 0, 0, 0, 0, 0, 0, 0, 0, 0, 0, 0, 0, 0],\n",
       " [1, 0, 0, 0, 0, 0, 0, 0, 0, 0, 0, 0, 0, 0, 0],\n",
       " [1, 0, 0, 0, 0, 0, 0, 0, 0, 0, 0, 0, 0, 0, 0],\n",
       " [0, 0, 0, 0, 0, 0, 0, 0, 0, 0, 0, 0, 0, 0, 0],\n",
       " [0, 0, 0, 0, 0, 0, 0, 0, 0, 0, 0, 0, 0, 0, 0],\n",
       " [1, 0, 0, 0, 0, 0, 0, 0, 0, 0, 0, 0, 0, 0, 0],\n",
       " [0, 0, 0, 0, 0, 0, 0, 0, 0, 0, 0, 0, 0, 0, 0],\n",
       " [0, 0, 0, 0, 0, 0, 0, 0, 0, 0, 0, 0, 0, 0, 0]]"
      ]
     },
     "execution_count": 9,
     "metadata": {},
     "output_type": "execute_result"
    }
   ],
   "source": [
    "comparisons"
   ]
  },
  {
   "cell_type": "code",
   "execution_count": 10,
   "id": "adverse-granny",
   "metadata": {},
   "outputs": [
    {
     "data": {
      "image/png": "[encoded data removed]",
      "text/plain": [
       "<Figure size 432x288 with 2 Axes>"
      ]
     },
     "metadata": {
      "needs_background": "light"
     },
     "output_type": "display_data"
    }
   ],
   "source": [
    "cmap = sb.cm.rocket_r\n",
    "# heatmap_test = sb.heatmap(comparisons,cmap = cmap)\n",
    "heatmap_test_nb = sb.heatmap(comparisons_nb,cmap = cmap)\n",
    "# fig = heatmap_test.get_figure()\n",
    "fig1 = heatmap_test_nb.get_figure()\n",
    "# fig.savefig('Test_fig_heatmap.png')\n",
    "fig1.savefig('Test_fig_heatmap_nb.png')"
   ]
  },
  {
   "cell_type": "code",
   "execution_count": 11,
   "id": "comic-better",
   "metadata": {},
   "outputs": [
    {
     "data": {
      "image/png": "[encoded data removed]",
      "text/plain": [
       "<Figure size 432x288 with 2 Axes>"
      ]
     },
     "metadata": {
      "needs_background": "light"
     },
     "output_type": "display_data"
    }
   ],
   "source": [
    "cmap = sb.cm.rocket_r\n",
    "# heatmap_test = sb.heatmap(comparisons,cmap = cmap)\n",
    "heatmap_test_nb = sb.heatmap(comparisons,cmap = cmap)\n",
    "# fig = heatmap_test.get_figure()\n",
    "fig1 = heatmap_test_nb.get_figure()\n",
    "# fig.savefig('Test_fig_heatmap.png')\n",
    "fig1.savefig('Test_fig_heatmap_nb.png')"
   ]
  },
  {
   "cell_type": "code",
   "execution_count": 5,
   "id": "compliant-services",
   "metadata": {},
   "outputs": [
    {
     "name": "stdout",
     "output_type": "stream",
     "text": [
      "[NbConvertApp] Converting notebook HeatmapPointRouge.ipynb to script\n",
      "[NbConvertApp] Writing 3404 bytes to HeatmapPointRouge.py\n"
     ]
    }
   ],
   "source": [
    "!jupyter nbconvert --to script HeatmapPointRouge.ipynb"
   ]
  },
  {
   "cell_type": "code",
   "execution_count": null,
   "id": "pretty-affairs",
   "metadata": {},
   "outputs": [],
   "source": []
  }
 ],
 "metadata": {
  "kernelspec": {
   "display_name": "Python 3",
   "language": "python",
   "name": "python3"
  },
  "language_info": {
   "codemirror_mode": {
    "name": "ipython",
    "version": 3
   },
   "file_extension": ".py",
   "mimetype": "text/x-python",
   "name": "python",
   "nbconvert_exporter": "python",
   "pygments_lexer": "ipython3",
   "version": "3.7.3"
  }
 },
 "nbformat": 4,
 "nbformat_minor": 5
}
