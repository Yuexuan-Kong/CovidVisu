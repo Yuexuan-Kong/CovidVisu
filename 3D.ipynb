{
 "cells": [
  {
   "cell_type": "code",
   "execution_count": 1,
   "metadata": {},
   "outputs": [],
   "source": [
    "import numpy as np\n",
    "import heapq\n",
    "import pandas as pd\n",
    "import matplotlib.pyplot as plt\n",
    "import random\n",
    "import seaborn as sns"
   ]
  },
  {
   "cell_type": "code",
   "execution_count": 2,
   "metadata": {},
   "outputs": [],
   "source": [
    "#normalize\n",
    "df = pd.read_excel(\"Database.xlsx\")\n",
    "index = [\"Treatment name\",\"Treatment type1\",\"n randomized in this arm\",\"Total sample size\"]\n",
    "data = pd.DataFrame(df,columns = index)[(df[\"Treatment type1\"] !='*') & (df[\"n randomized in this arm\"] != \"*\")]\n",
    "data.index = range(len(data))\n",
    "values = [[],[]]\n",
    "for i in [0,1] : \n",
    "    data[index[i]] = data[index[i]].str.lower()\n",
    "    data[index[i]] = data[index[i]].str.replace(', ','+')\n",
    "    values[i] = data[index[i]].unique()\n",
    "#print(data.shape,len(data[index[i]]))"
   ]
  },
  {
   "cell_type": "code",
   "execution_count": 3,
   "metadata": {},
   "outputs": [],
   "source": [
    "#list of all kinds of treatments\n",
    "#print(len(values[0]),len(values[1]))\n",
    "all_values = values[0]\n",
    "for temp in values[1] : \n",
    "    if not temp in all_values :\n",
    "        all_values = np.append(all_values, [temp], axis = 0)\n",
    "l = len(all_values)"
   ]
  },
  {
   "cell_type": "code",
   "execution_count": 4,
   "metadata": {},
   "outputs": [
    {
     "name": "stdout",
     "output_type": "stream",
     "text": [
      "(array([  6, 194]), array([194,   6]))\n",
      "[  6 194]\n",
      "(array([  3, 193]), array([193,   3]))\n",
      "[  3 193]\n",
      "(array([32]), array([194]))\n",
      "[32]\n",
      "(array([119, 203]), array([203, 119]))\n",
      "[119 203]\n",
      "(array([17]), array([203]))\n",
      "[17]\n",
      "(array([ 27, 190]), array([190,  27]))\n",
      "[ 27 190]\n",
      "(array([ 28, 196]), array([196,  28]))\n",
      "[ 28 196]\n",
      "(array([ 0, 97]), array([190, 196]))\n",
      "[ 0 97]\n",
      "(array([ 13, 199]), array([199,  13]))\n",
      "[ 13 199]\n",
      "(array([ 12,  18, 205]), array([193, 205,  18]))\n",
      "[ 12  18 205]\n",
      "[array([  6, 194]), array([  3, 193]), array([32]), array([119, 203]), array([17]), array([ 27, 190]), array([ 28, 196]), array([ 0, 97]), array([ 13, 199]), array([ 12,  18, 205])]\n"
     ]
    }
   ],
   "source": [
    "#calculer le nombre d'expériences faites pour comparer deux traitements différents\n",
    "patients_nb = np.eye(l)\n",
    "for i in range(0,462) :\n",
    "    treatmt1 = data.loc[i,index[0]]\n",
    "    po1 = np.where(all_values == treatmt1)\n",
    "    treatmt2 = data.loc[i,index[1]]\n",
    "    po2 = np.where(all_values == treatmt2)\n",
    "    #nb = data.loc[i,index[2]]\n",
    "    patients_nb[po1,po2] = patients_nb[po1,po2] + 1\n",
    "#print(patients_nb.max())\n",
    "#print(patients_nb[6,194],all_values[6],all_values[194])# les traitements les plus comparés\n",
    "patients_nb = patients_nb + np.transpose(patients_nb) - 2*np.eye(239)\n",
    "\n",
    "m = []#la liste des 10 traitements les plus comparés\n",
    "temp = np.array(patients_nb, copy = True)\n",
    "while (len(m)<10):\n",
    "    maxi = temp.max()\n",
    "    po = np.where(temp == maxi)#po est un array de deux positions car la matrice est symetrique, on prend juste le premier\n",
    "    print(po)\n",
    "    temp[po[0]] = 0\n",
    "    print(po[0])\n",
    "    m.append(po[0])\n",
    "print(m)\n",
    "\n",
    "# on cree une liste avec les noms de traitements les plus comparés\n"
   ]
  },
  {
   "cell_type": "code",
   "execution_count": 11,
   "metadata": {},
   "outputs": [
    {
     "name": "stdout",
     "output_type": "stream",
     "text": [
      "[array([  6, 194]), array([  3, 193]), array([ 32, 194]), array([119, 203]), array([ 17, 203]), array([ 27, 190]), array([ 28, 196]), array([  0,  97, 190, 196]), array([ 13, 199]), array([ 12,  18, 193, 205])]\n"
     ]
    }
   ],
   "source": [
    "m = []#la liste des 10 traitements les plus comparés\n",
    "temp = np.array(patients_nb, copy = True)\n",
    "while (len(m)<10):\n",
    "    maxi = temp.max()\n",
    "    po1 = np.where(temp == maxi)[0]\n",
    "    po2 = np.where(temp == maxi)[1]#po est un array de deux positions car la matrice est symetrique, on prend juste le premier\n",
    "    temp[po1,po2] = 0\n",
    "    m.append(po1)\n",
    "print(m)"
   ]
  },
  {
   "cell_type": "code",
   "execution_count": 7,
   "metadata": {},
   "outputs": [
    {
     "name": "stdout",
     "output_type": "stream",
     "text": [
      "[[  6 194]\n",
      " [194   6]]\n",
      "[[  3 193]\n",
      " [193   3]]\n",
      "[[ 32 194]]\n",
      "[[119 203]\n",
      " [203 119]]\n",
      "[[ 17 203]]\n",
      "[[ 27 190]\n",
      " [190  27]]\n",
      "[[ 28 196]\n",
      " [196  28]]\n",
      "[[  0 190]\n",
      " [ 97 196]]\n",
      "[[ 13 199]\n",
      " [199  13]]\n",
      "[[ 12 193]\n",
      " [ 18 205]\n",
      " [205  18]]\n",
      "[array([  6, 194]), array([  3, 193]), array([ 32, 194]), array([119, 203]), array([ 17, 203]), array([ 27, 190]), array([ 28, 196]), array([  0, 190]), array([ 13, 199]), array([ 12, 193])]\n"
     ]
    }
   ],
   "source": [
    "m = []#la liste des 10 traitements les plus comparés\n",
    "temp = np.array(patients_nb, copy = True)\n",
    "while (len(m)<10):\n",
    "    po = np.argwhere(temp == temp.max())\n",
    "    temp[po] = 0\n",
    "    print(po)\n",
    "    m.append(po[0])\n",
    "print(m)"
   ]
  },
  {
   "cell_type": "code",
   "execution_count": null,
   "metadata": {},
   "outputs": [],
   "source": [
    "#on ajoute une ligne des indices correspondants avant de supprimer tous les 0 pour que les indices ne se confondent pas \n",
    "temp1 = np.arange(239)\n",
    "patients_nb_ind = np.vstack((patients_nb,temp1))\n",
    "temp2 = np.transpose(np.arange(239))\n",
    "temp2 = np.hstack((temp2,0))\n",
    "patients_nb_ind = np.column_stack((patients_nb_ind,temp2))\n",
    "patients_nb_ind = patients_nb_ind - 2*np.eye(240)# on enlève les valeurs dans le diagonale\n",
    "#print(patients_nb_ind)\n",
    "#on enlève tous les 0,1,2\n",
    "ind = []# les caisses qu'on doit enlever\n",
    "for i in range(0,239) : \n",
    "    if  patients_nb[i].max() <= 2 :\n",
    "        temp = np.where(patients_nb[i] == patients_nb[i].max())\n",
    "    print(temp)\n",
    "    if np.count_nonzero(patients_nb_ind[i]) <= 2 :\n",
    "        ind.append(i)\n",
    "patients_np_ind = np.delete(patients_nb_ind,ind,axis=0)\n",
    "\n",
    "a = np.transpose(patients_np_ind)\n",
    "patients_np_ind = np.delete(a,ind,axis=0)\n",
    "patients_nb_ind = patients_np_ind\n",
    "\n",
    "#on enleve les indices\n",
    "print(patients_nb_ind[0:35,0:35])\n",
    "\n",
    "sns.set()\n",
    "np.random.seed(0)\n",
    "ax = sns.heatmap(patients_nb_ind[0:35,0:35])\n",
    "plt.savefig('cluster.tif',dpi = 300)\n",
    "plt.show()"
   ]
  },
  {
   "cell_type": "code",
   "execution_count": null,
   "metadata": {},
   "outputs": [],
   "source": []
  }
 ],
 "metadata": {
  "kernelspec": {
   "display_name": "Python 3",
   "language": "python",
   "name": "python3"
  },
  "language_info": {
   "codemirror_mode": {
    "name": "ipython",
    "version": 3
   },
   "file_extension": ".py",
   "mimetype": "text/x-python",
   "name": "python",
   "nbconvert_exporter": "python",
   "pygments_lexer": "ipython3",
   "version": "3.7.3"
  }
 },
 "nbformat": 4,
 "nbformat_minor": 2
}
