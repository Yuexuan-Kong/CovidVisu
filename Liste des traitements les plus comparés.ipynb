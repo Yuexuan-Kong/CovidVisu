{
 "cells": [
  {
   "cell_type": "code",
   "execution_count": 2,
   "metadata": {},
   "outputs": [],
   "source": [
    "import numpy as np\n",
    "import heapq\n",
    "import pandas as pd\n",
    "import matplotlib.pyplot as plt\n",
    "import random\n",
    "import seaborn as sns"
   ]
  },
  {
   "cell_type": "code",
   "execution_count": 3,
   "metadata": {},
   "outputs": [],
   "source": [
    "#normalize\n",
    "df = pd.read_excel(\"Database.xlsx\")\n",
    "index = [\"Treatment name\",\"Treatment type1\",\"n randomized in this arm\",\"Total sample size\"]\n",
    "data = pd.DataFrame(df,columns = index)[(df[\"Treatment type1\"] !='*') & (df[\"n randomized in this arm\"] != \"*\")]\n",
    "data.index = range(len(data))\n",
    "values = [[],[]]\n",
    "for i in [0,1] : \n",
    "    data[index[i]] = data[index[i]].str.lower()\n",
    "    data[index[i]] = data[index[i]].str.replace(', ','+')\n",
    "    values[i] = data[index[i]].unique()\n",
    "#print(data.shape,len(data[index[i]]))"
   ]
  },
  {
   "cell_type": "code",
   "execution_count": 4,
   "metadata": {},
   "outputs": [],
   "source": [
    "#list of all kinds of treatments\n",
    "#print(len(values[0]),len(values[1]))\n",
    "all_values = values[0]\n",
    "for temp in values[1] : \n",
    "    if not temp in all_values :\n",
    "        all_values = np.append(all_values, [temp], axis = 0)\n",
    "l = len(all_values)"
   ]
  },
  {
   "cell_type": "code",
   "execution_count": 24,
   "metadata": {
    "scrolled": true
   },
   "outputs": [
    {
     "name": "stdout",
     "output_type": "stream",
     "text": [
      "[  6 194]\n",
      "[  3 193]\n",
      "[ 32 194]\n",
      "[119 203]\n",
      "[ 17 203]\n",
      "[ 27 190]\n",
      "[ 28 196]\n",
      "[  0 190]\n",
      "[ 13 199]\n"
     ]
    }
   ],
   "source": [
    "m = []#la liste des N traitements les plus comparés\n",
    "temp = np.array(patients_nb, copy = True)\n",
    "while (len(m)<9):\n",
    "    po = np.argwhere(temp == temp.max())\n",
    "    for i in range(0, len(po)):\n",
    "        temp[po[i]] = 0\n",
    "    print(po[0])\n",
    "    m.append(po[0])"
   ]
  },
  {
   "cell_type": "code",
   "execution_count": 25,
   "metadata": {},
   "outputs": [],
   "source": [
    "name = []\n",
    "for i in range(0,len(m)):\n",
    "    po1 = m[i][0]\n",
    "    po2 = m[i][1]\n",
    "    treatmt1 = all_values[po1]\n",
    "    treatmt2 = all_values[po2]\n",
    "    name.append([treatmt1,treatmt2])"
   ]
  },
  {
   "cell_type": "code",
   "execution_count": 26,
   "metadata": {},
   "outputs": [
    {
     "data": {
      "text/plain": [
       "[['hydroxychloroquine', 'antimalaria'],\n",
       " ['lopinavir+ritonavir', 'antiviral+antiretrovirals'],\n",
       " ['chloroquine', 'antimalaria'],\n",
       " ['placebo', 'control'],\n",
       " ['standard of care', 'control'],\n",
       " ['favipiravir', 'antiviral+broad spectrum'],\n",
       " ['tocilizumab', 'monoclonal antibodies'],\n",
       " ['umifenovir', 'antiviral+broad spectrum'],\n",
       " ['mesenchymal stem cells', 'atmp']]"
      ]
     },
     "execution_count": 26,
     "metadata": {},
     "output_type": "execute_result"
    }
   ],
   "source": [
    "name"
   ]
  },
  {
   "cell_type": "raw",
   "metadata": {},
   "source": [
    "#calculer le nombre d'expériences faites pour comparer deux traitements différents\n",
    "patients_nb = np.eye(l)\n",
    "for i in range(0,462) :\n",
    "    treatmt1 = data.loc[i,index[0]]\n",
    "    po1 = np.where(all_values == treatmt1)\n",
    "    treatmt2 = data.loc[i,index[1]]\n",
    "    po2 = np.where(all_values == treatmt2)\n",
    "    #nb = data.loc[i,index[2]]\n",
    "    patients_nb[po1,po2] = patients_nb[po1,po2] + 1\n",
    "#print(patients_nb.max())\n",
    "#print(patients_nb[6,194],all_values[6],all_values[194])# les traitements les plus comparés\n",
    "patients_nb = patients_nb + np.transpose(patients_nb) - 2*np.eye(239)\n",
    "\n",
    "m = []#la liste des 10 traitements les plus comparés\n",
    "temp = np.array(patients_nb, copy = True)\n",
    "while (len(m)<10):\n",
    "    maxi = temp.max()\n",
    "    po = np.where(temp == maxi)#po est un array de deux positions car la matrice est symetrique, on prend juste le premier\n",
    "    print(po)\n",
    "    temp[po[0]] = 0\n",
    "    print(po[0])\n",
    "    m.append(po[0])\n",
    "print(m)\n",
    "\n",
    "# on cree une liste avec les noms de traitements les plus comparés\n"
   ]
  },
  {
   "cell_type": "raw",
   "metadata": {},
   "source": [
    "m = []#la liste des 10 traitements les plus comparés\n",
    "temp = np.array(patients_nb, copy = True)\n",
    "while (len(m)<10):\n",
    "    maxi = temp.max()\n",
    "    po1 = np.where(temp == maxi)[0]\n",
    "    po2 = np.where(temp == maxi)[1]#po est un array de deux positions car la matrice est symetrique, on prend juste le premier\n",
    "    temp[po1,po2] = 0\n",
    "    m.append(po1)\n",
    "print(m)"
   ]
  }
 ],
 "metadata": {
  "kernelspec": {
   "display_name": "Python 3",
   "language": "python",
   "name": "python3"
  },
  "language_info": {
   "codemirror_mode": {
    "name": "ipython",
    "version": 3
   },
   "file_extension": ".py",
   "mimetype": "text/x-python",
   "name": "python",
   "nbconvert_exporter": "python",
   "pygments_lexer": "ipython3",
   "version": "3.7.3"
  }
 },
 "nbformat": 4,
 "nbformat_minor": 2
}
