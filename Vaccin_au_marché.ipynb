{
 "cells": [
  {
   "cell_type": "markdown",
   "metadata": {},
   "source": [
    "# Vaccin Covid-19 dans le marché\n",
    "- ## [BNT162b2 - BioNTech & Pfizer](https://clinicaltrials.gov/ct2/show/NCT04368728)\n",
    "    * Nom : BNT162b2\n",
    "    * Entreprise : BioNTech, Pfizer\n",
    "    * Type : mRNA\n",
    "    * Nombre d'injection : 2 injections avec 21 jours entre les deux\n",
    "    \n",
    "    BNT162 est un vaccin basé sur RNA et développé par l'entreprise BioNTech. Il existe plusieurs types de vaccins de BNT162, y compris BNT162-b1 et BNT162-b2 qui ont été comparés dans un essai realisé par l'entreprise Pfizer. Chaque type de BNT162 a un encodement différent. Le dernier essai de BNT162 est sur le type BNT162-04, qui a commencé en Septembre 2020.\n",
    "\n",
    "    [Document d'essai](https://pfe-pfizercom-d8-prod.s3.amazonaws.com/2020-11/C4591001_Clinical_Protocol_Nov2020.pdf)\n",
    "\n",
    "- ## [mRNA1273 - Moderna](https://clinicaltrials.gov/ct2/show/NCT04470427)\n",
    "    * Nom : mRNA1273\n",
    "    * Entreprise : Moderna\n",
    "    * Type : mRNA\n",
    "    * Nombre d'injection : 2 injections avec 28 jours entre les deux\n",
    "    \n",
    "    Le vaccin mRNA-1273 est un vaccin à base d'mRNA encapsulé dans des nanoparticules lipidiques qui code pour la protéine de pointe pleine longueur stabilisée par préfusion du coronavirus 2 du syndrome respiratoire aigu sévère (SARS-CoV-2), le virus qui cause Covid-19.\n",
    "    \n",
    "    [Document d'essai](https://www.nejm.org/doi/full/10.1056/NEJMoa2035389)\n",
    "\n"
   ]
  },
  {
   "cell_type": "code",
   "execution_count": null,
   "metadata": {},
   "outputs": [],
   "source": []
  }
 ],
 "metadata": {
  "kernelspec": {
   "display_name": "Python 3",
   "language": "python",
   "name": "python3"
  },
  "language_info": {
   "codemirror_mode": {
    "name": "ipython",
    "version": 3
   },
   "file_extension": ".py",
   "mimetype": "text/x-python",
   "name": "python",
   "nbconvert_exporter": "python",
   "pygments_lexer": "ipython3",
   "version": "3.7.3"
  }
 },
 "nbformat": 4,
 "nbformat_minor": 2
}
